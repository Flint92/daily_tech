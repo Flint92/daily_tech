{
 "cells": [
  {
   "cell_type": "code",
   "id": "initial_id",
   "metadata": {
    "collapsed": true
   },
   "source": [
    "import tensorflow.keras as tfk\n",
    "import numpy as np"
   ],
   "outputs": [],
   "execution_count": null
  },
  {
   "metadata": {},
   "cell_type": "code",
   "source": [
    "path = tfk.utils.get_file(\n",
    "    'nietzsche.txt',\n",
    "    origin='https://s3.amazonaws.com/text-datasets/nietzsche.txt',\n",
    ")\n",
    "print(path)"
   ],
   "id": "38475f1f1a49abb9",
   "outputs": [],
   "execution_count": null
  },
  {
   "metadata": {},
   "cell_type": "code",
   "source": [
    "text = open(path, 'r').read().lower()\n",
    "text_len = len(text)\n",
    "print(f'text length: {text_len}')"
   ],
   "id": "109f7966f52a5821",
   "outputs": [],
   "execution_count": null
  },
  {
   "metadata": {},
   "cell_type": "code",
   "source": [
    "max_len = 60\n",
    "step = 3\n",
    "sequences = [] # 保存所有的序列\n",
    "labels = [] # 保存所有的标签\n",
    "for i in range(0, text_len - max_len, step):\n",
    "    sequences.append(text[i: i + max_len]) # 数据\n",
    "    labels.append(text[i + max_len]) # 标签\n",
    "print('sequences count:', len(sequences))\n",
    "print('labels count:', len(labels))"
   ],
   "id": "da33bfeb51279665",
   "outputs": [],
   "execution_count": null
  },
  {
   "metadata": {},
   "cell_type": "code",
   "source": [
    "chars = sorted(list(set(text)))\n",
    "print('unique chars:', len(chars))"
   ],
   "id": "ac7ec2e1db0b6d96",
   "outputs": [],
   "execution_count": null
  },
  {
   "metadata": {},
   "cell_type": "code",
   "source": [
    "chars_dict = {char: i for i, char in enumerate(chars)}\n",
    "print(chars_dict)"
   ],
   "id": "c70c99f25dd97821",
   "outputs": [],
   "execution_count": null
  },
  {
   "metadata": {},
   "cell_type": "code",
   "source": [
    "# 向量化\n",
    "X = np.zeros((len(sequences), max_len, len(chars)), dtype=np.bool)\n",
    "y = np.zeros((len(labels), len(chars)), dtype=np.bool)\n",
    "\n",
    "# one-hot 编码\n",
    "for i, sequence in enumerate(sequences):\n",
    "    for t, char in enumerate(sequence):\n",
    "        X[i, t, chars_dict[char]] = 1\n",
    "\n",
    "for i, label in enumerate(labels):\n",
    "    y[i, chars_dict[label]] = 1\n",
    "\n",
    "X.shape, y.shape"
   ],
   "id": "66da69bb96a546aa",
   "outputs": [],
   "execution_count": null
  },
  {
   "metadata": {},
   "cell_type": "code",
   "source": [
    "from tensorflow.keras.models import Sequential\n",
    "from tensorflow.keras.layers import LSTM, Dense, Input\n",
    "from tensorflow.keras.optimizers import RMSprop"
   ],
   "id": "66a6f0810b57d54f",
   "outputs": [],
   "execution_count": null
  },
  {
   "metadata": {},
   "cell_type": "code",
   "source": [
    "model = Sequential()\n",
    "model.add(Input(shape=(max_len, len(chars))))\n",
    "model.add(LSTM(128))\n",
    "model.add(Dense(len(chars), activation='softmax'))\n",
    "\n",
    "optimizer = RMSprop(learning_rate=0.01)\n",
    "model.compile(loss='categorical_crossentropy', optimizer=optimizer)\n",
    "model.summary()"
   ],
   "id": "9178a05d32d76a42",
   "outputs": [],
   "execution_count": null
  },
  {
   "metadata": {},
   "cell_type": "code",
   "source": [
    "def sample(preds, temperature=1.0):\n",
    "    preds = np.asarray(preds).astype('float64') # 类型转换\n",
    "    preds = np.log(preds) / temperature\n",
    "    exp_preds = np.exp(preds)\n",
    "    preds = exp_preds / np.sum(exp_preds) # 归一化\n",
    "    probas = np.random.multinomial(1, preds, 1) # 多项式采样，随机采样\n",
    "    return np.argmax(probas) # 返回概率值最大的字符"
   ],
   "id": "8066cbd1338d4365",
   "outputs": [],
   "execution_count": null
  },
  {
   "metadata": {
    "jupyter": {
     "is_executing": true
    }
   },
   "cell_type": "code",
   "source": [
    "import random\n",
    "\n",
    "model.fit(X, y, batch_size=32, epochs=1)\n",
    "for epoch in range(1, 10):\n",
    "    print('epoch:', epoch)\n",
    "    start_idx = random.randint(0, len(text) - max_len - 1)\n",
    "    generate_text = text[start_idx: start_idx + max_len]\n",
    "    print('random generated text:', generate_text)\n",
    "\n",
    "    for t in [0.2, 0.5, 1.0, 1.2]:\n",
    "        print('temperature:', t)\n",
    "        print('generating text:', generate_text)\n",
    "        for i in range(400):\n",
    "            sampled = np.zeros((1, max_len, len(chars)))\n",
    "            for j, char in enumerate(generate_text):\n",
    "                sampled[0, j, chars_dict[char]] = 1.\n",
    "\n",
    "            preds = model.predict(sampled, verbose=0)[0]\n",
    "            next_index = sample(preds, t)\n",
    "            next_char = chars[next_index]\n",
    "\n",
    "            generate_text += next_char\n",
    "            generate_text = generate_text[1:]\n",
    "\n",
    "            print(generate_text)\n"
   ],
   "id": "b617cf908cd7f7df",
   "outputs": [],
   "execution_count": null
  }
 ],
 "metadata": {
  "kernelspec": {
   "display_name": "Python 3",
   "language": "python",
   "name": "python3"
  },
  "language_info": {
   "codemirror_mode": {
    "name": "ipython",
    "version": 2
   },
   "file_extension": ".py",
   "mimetype": "text/x-python",
   "name": "python",
   "nbconvert_exporter": "python",
   "pygments_lexer": "ipython2",
   "version": "2.7.6"
  }
 },
 "nbformat": 4,
 "nbformat_minor": 5
}
